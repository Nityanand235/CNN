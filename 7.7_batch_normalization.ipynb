{
 "cells": [
  {
   "cell_type": "code",
   "execution_count": 3,
   "metadata": {},
   "outputs": [],
   "source": [
    "import numpy as np\n",
    "import pandas as pd\n",
    "import tensorflow as tf\n",
    "import matplotlib.pyplot as plt\n",
    "%matplotlib inline"
   ]
  },
  {
   "cell_type": "code",
   "execution_count": 4,
   "metadata": {},
   "outputs": [],
   "source": [
    "digits = pd.read_csv('./data/digit_recognizer_train.csv')"
   ]
  },
  {
   "cell_type": "code",
   "execution_count": 5,
   "metadata": {},
   "outputs": [],
   "source": [
    "X = digits.iloc[:, 1:]\n",
    "y = digits.iloc[:, 0]"
   ]
  },
  {
   "cell_type": "code",
   "execution_count": 6,
   "metadata": {},
   "outputs": [],
   "source": [
    "from sklearn.model_selection import train_test_split\n",
    "X_train, X_test, y_train, y_test = train_test_split(X, y, test_size=0.20, random_state=42)"
   ]
  },
  {
   "cell_type": "code",
   "execution_count": 7,
   "metadata": {},
   "outputs": [],
   "source": [
    "from sklearn.preprocessing import StandardScaler\n",
    "X_train = X_train.astype(np.float64)\n",
    "X_test = X_test.astype(np.float64)"
   ]
  },
  {
   "cell_type": "code",
   "execution_count": 8,
   "metadata": {},
   "outputs": [],
   "source": [
    "sc = StandardScaler()\n",
    "X_train = sc.fit_transform(X_train)\n",
    "X_test = sc.transform(X_test)"
   ]
  },
  {
   "cell_type": "code",
   "execution_count": 9,
   "metadata": {},
   "outputs": [],
   "source": [
    "input_nodes = X_train.shape[1]\n",
    "hid1_nodes = 500\n",
    "hid2_nodes = 500\n",
    "hid3_nodes = 500\n",
    "hid4_nodes = 500\n",
    "output_nodes = 10"
   ]
  },
  {
   "cell_type": "code",
   "execution_count": 10,
   "metadata": {},
   "outputs": [],
   "source": [
    "tf_x = tf.placeholder(name=\"tf_x\", shape=(None, input_nodes), dtype=tf.float32)\n",
    "tf_y = tf.placeholder(name=\"tf_y\", shape=(None), dtype=tf.int32)"
   ]
  },
  {
   "cell_type": "code",
   "execution_count": 11,
   "metadata": {},
   "outputs": [],
   "source": [
    "with tf.variable_scope(\"network\", reuse=tf.AUTO_REUSE):\n",
    "    hid_layer1 = tf.layers.dense(name=\"hid_layer1\", inputs=tf_x, units=hid1_nodes)\n",
    "    bn_hid_layer1 = tf.layers.batch_normalization(inputs=hid_layer1, training=False, momentum=0.9)\n",
    "    bn_hid_layer1_act = tf.nn.relu(bn_hid_layer1)\n",
    "\n",
    "    hid_layer2 = tf.layers.dense(name=\"hid_layer2\", inputs=bn_hid_layer1_act, units=hid2_nodes)\n",
    "    bn_hid_layer2 = tf.layers.batch_normalization(inputs=hid_layer2, training=False, momentum=0.9)\n",
    "    bn_hid_layer2_act = tf.nn.relu(bn_hid_layer2)\n",
    "\n",
    "    hid_layer3 = tf.layers.dense(name=\"hid_layer3\", inputs=bn_hid_layer2_act, units=hid3_nodes)\n",
    "    bn_hid_layer3 = tf.layers.batch_normalization(inputs=hid_layer3, training=False, momentum=0.9)\n",
    "    bn_hid_layer3_act = tf.nn.relu(bn_hid_layer3)\n",
    "\n",
    "    hid_layer4 = tf.layers.dense(name=\"hid_layer4\", inputs=bn_hid_layer3_act, units=hid4_nodes)\n",
    "    bn_hid_layer4 = tf.layers.batch_normalization(inputs=hid_layer4, training=False, momentum=0.9)\n",
    "    bn_hid_layer4_act = tf.nn.relu(bn_hid_layer4)\n",
    "\n",
    "    out_layer = tf.layers.dense(name=\"out_layer\", inputs=bn_hid_layer4_act, units=output_nodes)\n",
    "    bn_out_layer = tf.layers.batch_normalization(inputs=out_layer, training=False, momentum=0.9)"
   ]
  },
  {
   "cell_type": "code",
   "execution_count": 12,
   "metadata": {},
   "outputs": [],
   "source": [
    "with tf.variable_scope(\"cost\", reuse=tf.AUTO_REUSE):\n",
    "    loss = tf.nn.sparse_softmax_cross_entropy_with_logits(name=\"loss\", labels=tf_y, logits=bn_out_layer)\n",
    "    cost = tf.reduce_mean(loss, name=\"cost\")"
   ]
  },
  {
   "cell_type": "code",
   "execution_count": 13,
   "metadata": {},
   "outputs": [],
   "source": [
    "with tf.variable_scope(\"optimize\", reuse=tf.AUTO_REUSE):\n",
    "    optimizer = tf.train.GradientDescentOptimizer(name=\"optimizer\", learning_rate=0.01)\n",
    "    optimizer_op = optimizer.minimize(cost)\n",
    "    \n",
    "    acc, acc_op = tf.metrics.accuracy(labels=tf_y, predictions=tf.argmax(input=bn_out_layer, axis=1), name=\"accuracy\")"
   ]
  },
  {
   "cell_type": "code",
   "execution_count": 14,
   "metadata": {},
   "outputs": [
    {
     "name": "stdout",
     "output_type": "stream",
     "text": [
      "[0, 1, 2, 3, 4, 5, 6, 7, 8, 9]\n"
     ]
    }
   ],
   "source": [
    "a = np.arange(10)\n",
    "df = pd.DataFrame(a)\n",
    "print(list(df.index))"
   ]
  },
  {
   "cell_type": "code",
   "execution_count": 15,
   "metadata": {},
   "outputs": [],
   "source": [
    "def shuffle_batch(X, y, batch_size):\n",
    "    n_batches = len(X) // batch_size\n",
    "    X_batches = np.array_split(X, n_batches)\n",
    "    y_batches = np.array_split(y, n_batches)\n",
    "    \n",
    "    for batch_idx in range(n_batches):\n",
    "        X_batch, y_batch = X_batches[batch_idx], y_batches[batch_idx]\n",
    "        yield X_batch, y_batch"
   ]
  },
  {
   "cell_type": "code",
   "execution_count": null,
   "metadata": {},
   "outputs": [
    {
     "name": "stdout",
     "output_type": "stream",
     "text": [
      "Epoch :  20     - Train Accuracy :  0.999375   Test -  0.9920476\n",
      "**************************************************\n",
      "Epoch :  40     - Train Accuracy :  0.9955688   Test -  0.99235713\n",
      "**************************************************\n",
      "Epoch :  60     - Train Accuracy :  0.9945408   Test -  0.99250793\n",
      "**************************************************\n",
      "Epoch :  80     - Train Accuracy :  0.9940852   Test -  0.9925774\n",
      "**************************************************\n",
      "Epoch :  100     - Train Accuracy :  0.99381447   Test -  0.99261427\n",
      "**************************************************\n",
      "Epoch :  120     - Train Accuracy :  0.99363303   Test -  0.9926429\n",
      "**************************************************\n",
      "Epoch :  140     - Train Accuracy :  0.9935084   Test -  0.99265987\n",
      "**************************************************\n"
     ]
    }
   ],
   "source": [
    "n_epochs = 200\n",
    "batch_size = 64\n",
    "\n",
    "init_g = tf.global_variables_initializer()\n",
    "init_l = tf.local_variables_initializer()\n",
    "\n",
    "with tf.Session() as sess:\n",
    "    init_g.run()\n",
    "    init_l.run()\n",
    "    for epoch in range(n_epochs):\n",
    "        for X_batch, y_batch in shuffle_batch(X_train, y_train, batch_size):\n",
    "            sess.run(optimizer_op, feed_dict={tf_x: X_batch, tf_y: y_batch})\n",
    "        if( (epoch+1) % 20 == 0):\n",
    "            print(\"Epoch : \", epoch + 1 ,\"    - Train Accuracy : \", \\\n",
    "                      sess.run(acc_op, feed_dict={tf_x:X_train, tf_y:y_train}) \\\n",
    "                     ,\"  Test - \", sess.run(acc_op, feed_dict={tf_x:X_test, tf_y:y_test}))\n",
    "            \n",
    "            print(\"*\"*50)\n",
    "    print(\"Done\")        "
   ]
  },
  {
   "cell_type": "code",
   "execution_count": null,
   "metadata": {},
   "outputs": [],
   "source": []
  }
 ],
 "metadata": {
  "kernelspec": {
   "display_name": "Python 3",
   "language": "python",
   "name": "python3"
  },
  "language_info": {
   "codemirror_mode": {
    "name": "ipython",
    "version": 3
   },
   "file_extension": ".py",
   "mimetype": "text/x-python",
   "name": "python",
   "nbconvert_exporter": "python",
   "pygments_lexer": "ipython3",
   "version": "3.6.4"
  }
 },
 "nbformat": 4,
 "nbformat_minor": 2
}
